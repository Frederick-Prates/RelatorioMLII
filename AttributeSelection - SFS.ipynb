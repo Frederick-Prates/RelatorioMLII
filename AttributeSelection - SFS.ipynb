{
 "cells": [
  {
   "cell_type": "code",
   "execution_count": 9,
   "metadata": {},
   "outputs": [],
   "source": [
    "import matplotlib.pyplot as plt\n",
    "import time\n",
    "from sklearn.model_selection import train_test_split, StratifiedKFold, GridSearchCV\n",
    "from sklearn.tree import DecisionTreeClassifier\n",
    "from sklearn.ensemble import RandomForestClassifier\n",
    "from sklearn.neighbors import KNeighborsClassifier\n",
    "from sklearn.linear_model import LogisticRegression\n",
    "from sklearn.naive_bayes import GaussianNB\n",
    "from sklearn.neural_network import MLPClassifier\n",
    "from sklearn.svm import SVC\n",
    "from sklearn.metrics import (confusion_matrix, \n",
    "                             ConfusionMatrixDisplay, \n",
    "                             classification_report, \n",
    "                             RocCurveDisplay,\n",
    "                             roc_curve,\n",
    "                             r2_score,\n",
    "                             mean_squared_error,\n",
    "                             auc, accuracy_score)\n",
    "from sklearn.feature_selection import SequentialFeatureSelector\n",
    "import tqdm\n",
    "import warnings\n",
    "warnings.filterwarnings('ignore')\n",
    "import pandas as pd\n",
    "from scipy.io.arff import loadarff "
   ]
  },
  {
   "cell_type": "markdown",
   "metadata": {},
   "source": [
    "## Pre-settings"
   ]
  },
  {
   "cell_type": "markdown",
   "metadata": {},
   "source": [
    "Carrega base:"
   ]
  },
  {
   "cell_type": "code",
   "execution_count": 10,
   "metadata": {},
   "outputs": [],
   "source": [
    "df_data = pd.DataFrame(loadarff(r'C:\\Users\\LCSJUNI\\OneDrive - Embraer\\PES\\Projeto ML II\\dataset_6_letter.arff')[0])\n",
    "df_data['class'] = df_data['class'].astype(str).str.extract(\"b'([A-Z])'\")"
   ]
  },
  {
   "cell_type": "code",
   "execution_count": 11,
   "metadata": {},
   "outputs": [
    {
     "data": {
      "text/html": [
       "<div>\n",
       "<style scoped>\n",
       "    .dataframe tbody tr th:only-of-type {\n",
       "        vertical-align: middle;\n",
       "    }\n",
       "\n",
       "    .dataframe tbody tr th {\n",
       "        vertical-align: top;\n",
       "    }\n",
       "\n",
       "    .dataframe thead th {\n",
       "        text-align: right;\n",
       "    }\n",
       "</style>\n",
       "<table border=\"1\" class=\"dataframe\">\n",
       "  <thead>\n",
       "    <tr style=\"text-align: right;\">\n",
       "      <th></th>\n",
       "      <th>x-box</th>\n",
       "      <th>y-box</th>\n",
       "      <th>width</th>\n",
       "      <th>high</th>\n",
       "      <th>onpix</th>\n",
       "      <th>x-bar</th>\n",
       "      <th>y-bar</th>\n",
       "      <th>x2bar</th>\n",
       "      <th>y2bar</th>\n",
       "      <th>xybar</th>\n",
       "      <th>x2ybr</th>\n",
       "      <th>xy2br</th>\n",
       "      <th>x-ege</th>\n",
       "      <th>xegvy</th>\n",
       "      <th>y-ege</th>\n",
       "      <th>yegvx</th>\n",
       "      <th>class</th>\n",
       "    </tr>\n",
       "  </thead>\n",
       "  <tbody>\n",
       "    <tr>\n",
       "      <th>0</th>\n",
       "      <td>2.0</td>\n",
       "      <td>4.0</td>\n",
       "      <td>4.0</td>\n",
       "      <td>3.0</td>\n",
       "      <td>2.0</td>\n",
       "      <td>7.0</td>\n",
       "      <td>8.0</td>\n",
       "      <td>2.0</td>\n",
       "      <td>9.0</td>\n",
       "      <td>11.0</td>\n",
       "      <td>7.0</td>\n",
       "      <td>7.0</td>\n",
       "      <td>1.0</td>\n",
       "      <td>8.0</td>\n",
       "      <td>5.0</td>\n",
       "      <td>6.0</td>\n",
       "      <td>Z</td>\n",
       "    </tr>\n",
       "    <tr>\n",
       "      <th>1</th>\n",
       "      <td>4.0</td>\n",
       "      <td>7.0</td>\n",
       "      <td>5.0</td>\n",
       "      <td>5.0</td>\n",
       "      <td>5.0</td>\n",
       "      <td>5.0</td>\n",
       "      <td>9.0</td>\n",
       "      <td>6.0</td>\n",
       "      <td>4.0</td>\n",
       "      <td>8.0</td>\n",
       "      <td>7.0</td>\n",
       "      <td>9.0</td>\n",
       "      <td>2.0</td>\n",
       "      <td>9.0</td>\n",
       "      <td>7.0</td>\n",
       "      <td>10.0</td>\n",
       "      <td>P</td>\n",
       "    </tr>\n",
       "    <tr>\n",
       "      <th>2</th>\n",
       "      <td>7.0</td>\n",
       "      <td>10.0</td>\n",
       "      <td>8.0</td>\n",
       "      <td>7.0</td>\n",
       "      <td>4.0</td>\n",
       "      <td>8.0</td>\n",
       "      <td>8.0</td>\n",
       "      <td>5.0</td>\n",
       "      <td>10.0</td>\n",
       "      <td>11.0</td>\n",
       "      <td>2.0</td>\n",
       "      <td>8.0</td>\n",
       "      <td>2.0</td>\n",
       "      <td>5.0</td>\n",
       "      <td>5.0</td>\n",
       "      <td>10.0</td>\n",
       "      <td>S</td>\n",
       "    </tr>\n",
       "    <tr>\n",
       "      <th>3</th>\n",
       "      <td>4.0</td>\n",
       "      <td>9.0</td>\n",
       "      <td>5.0</td>\n",
       "      <td>7.0</td>\n",
       "      <td>4.0</td>\n",
       "      <td>7.0</td>\n",
       "      <td>7.0</td>\n",
       "      <td>13.0</td>\n",
       "      <td>1.0</td>\n",
       "      <td>7.0</td>\n",
       "      <td>6.0</td>\n",
       "      <td>8.0</td>\n",
       "      <td>3.0</td>\n",
       "      <td>8.0</td>\n",
       "      <td>0.0</td>\n",
       "      <td>8.0</td>\n",
       "      <td>H</td>\n",
       "    </tr>\n",
       "    <tr>\n",
       "      <th>4</th>\n",
       "      <td>6.0</td>\n",
       "      <td>7.0</td>\n",
       "      <td>8.0</td>\n",
       "      <td>5.0</td>\n",
       "      <td>4.0</td>\n",
       "      <td>7.0</td>\n",
       "      <td>6.0</td>\n",
       "      <td>3.0</td>\n",
       "      <td>7.0</td>\n",
       "      <td>10.0</td>\n",
       "      <td>7.0</td>\n",
       "      <td>9.0</td>\n",
       "      <td>3.0</td>\n",
       "      <td>8.0</td>\n",
       "      <td>3.0</td>\n",
       "      <td>7.0</td>\n",
       "      <td>H</td>\n",
       "    </tr>\n",
       "  </tbody>\n",
       "</table>\n",
       "</div>"
      ],
      "text/plain": [
       "   x-box  y-box  width  high  onpix  x-bar  y-bar  x2bar  y2bar  xybar  x2ybr  \\\n",
       "0    2.0    4.0    4.0   3.0    2.0    7.0    8.0    2.0    9.0   11.0    7.0   \n",
       "1    4.0    7.0    5.0   5.0    5.0    5.0    9.0    6.0    4.0    8.0    7.0   \n",
       "2    7.0   10.0    8.0   7.0    4.0    8.0    8.0    5.0   10.0   11.0    2.0   \n",
       "3    4.0    9.0    5.0   7.0    4.0    7.0    7.0   13.0    1.0    7.0    6.0   \n",
       "4    6.0    7.0    8.0   5.0    4.0    7.0    6.0    3.0    7.0   10.0    7.0   \n",
       "\n",
       "   xy2br  x-ege  xegvy  y-ege  yegvx class  \n",
       "0    7.0    1.0    8.0    5.0    6.0     Z  \n",
       "1    9.0    2.0    9.0    7.0   10.0     P  \n",
       "2    8.0    2.0    5.0    5.0   10.0     S  \n",
       "3    8.0    3.0    8.0    0.0    8.0     H  \n",
       "4    9.0    3.0    8.0    3.0    7.0     H  "
      ]
     },
     "execution_count": 11,
     "metadata": {},
     "output_type": "execute_result"
    }
   ],
   "source": [
    "df_data.head()"
   ]
  },
  {
   "cell_type": "markdown",
   "metadata": {},
   "source": [
    "Converte coluna de classificação de categórica para numérica:"
   ]
  },
  {
   "cell_type": "code",
   "execution_count": 12,
   "metadata": {},
   "outputs": [],
   "source": [
    "# Mapeando os valores da classe para inteiro (para fins de visualização da região de decisão)\n",
    "df_data['class'] = pd.factorize(df_data['class'])[0]"
   ]
  },
  {
   "cell_type": "markdown",
   "metadata": {},
   "source": [
    "Separa colunas de features (X) e coluna de classificação (y):"
   ]
  },
  {
   "cell_type": "code",
   "execution_count": 13,
   "metadata": {},
   "outputs": [],
   "source": [
    "# Features\n",
    "X = df_data.iloc[:,0:-1]\n",
    "# Class\n",
    "y = df_data.iloc[:,-1]"
   ]
  },
  {
   "cell_type": "markdown",
   "metadata": {},
   "source": [
    "Divide conjunto de treinamento  (80%) e conjunto de teste (20%):"
   ]
  },
  {
   "cell_type": "code",
   "execution_count": 14,
   "metadata": {},
   "outputs": [],
   "source": [
    "X_train, X_test, y_train, y_test = train_test_split(X, y, test_size=0.2, stratify=y)"
   ]
  },
  {
   "cell_type": "code",
   "execution_count": 15,
   "metadata": {},
   "outputs": [],
   "source": [
    "# models\n",
    "models_functions = [\n",
    "    # (\"Decision Tree\",DecisionTreeClassifier(criterion='log_loss',max_depth=100,splitter='best')),\n",
    "    # (\"KNN\",KNeighborsClassifier(n_neighbors=1,metric='euclidean')),\n",
    "    # (\"Random Forest\", RandomForestClassifier(criterion='entropy',max_depth=1000,n_estimators=10)),\n",
    "    # (\"Logistic Regression\", LogisticRegression(penalty='l2',C=0.5,solver='newton-cg')),\n",
    "    # (\"Gaussian\", GaussianNB()),\n",
    "    (\"MLP\", MLPClassifier(activation='tanh', hidden_layer_sizes= (16, 26), learning_rate= 'invscaling')),\n",
    "    (\"SVM\", SVC(C= 20, decision_function_shape= 'ovo', kernel= 'rbf'))\n",
    "]"
   ]
  },
  {
   "cell_type": "markdown",
   "metadata": {},
   "source": [
    "# SequentialFeatureSelection - Oficial"
   ]
  },
  {
   "cell_type": "code",
   "execution_count": 16,
   "metadata": {},
   "outputs": [
    {
     "name": "stderr",
     "output_type": "stream",
     "text": [
      "  0%|          | 0/2 [00:00<?, ?it/s]"
     ]
    },
    {
     "name": "stdout",
     "output_type": "stream",
     "text": [
      "*****\n",
      "*MLP with - 8 features*\n",
      "*****\n",
      "--------------------------------------------------\n"
     ]
    }
   ],
   "source": [
    "for models in tqdm.tqdm(models_functions):\n",
    "\n",
    "    for n_features in range(8,13,4):\n",
    "\n",
    "        start = time.time()\n",
    "        name = models[0]\n",
    "        model = models[1]\n",
    "\n",
    "        # Nome do classificador\n",
    "        print(\"*\"*(len(name)+2))\n",
    "        print(f\"*{name} with - {n_features} features*\")\n",
    "        print(\"*\"*(len(name)+2))\n",
    "        print(\"-\"*50)\n",
    "        \n",
    "\n",
    "        kf = StratifiedKFold(n_splits=10, shuffle=True, random_state=199)\n",
    "        sfs = SequentialFeatureSelector(model, n_features_to_select=n_features, direction='forward', cv=10)\n",
    "        sfs.fit(X, y)\n",
    "\n",
    "        best_features_cv = sfs.get_feature_names_out()\n",
    "        print(f\"Best features to {name} with {n_features}: {best_features_cv}\")\n",
    "\n",
    "        # Seleção apenas das melhores features\n",
    "        X_best_cv = df_data[best_features_cv]\n",
    "\n",
    "        X_train, X_test, y_train, y_test = train_test_split(X_best_cv, y, test_size=0.2, stratify=y)\n",
    "        model.fit(X_train, y_train)\n",
    "\n",
    "        y_pred = model.predict(X_test)\n",
    "\n",
    "        print()\n",
    "        print(classification_report(y_test, y_pred))\n",
    "        print()\n",
    "\n",
    "        print(f\"MSE to {name} with - {n_features} features:\", mean_squared_error(y_test, y_pred))\n",
    "        print(f\"R2_score {name} with - {n_features} features:\", r2_score(y_test, y_pred))\n",
    "        print(f\"Accuracy score {name} with - {n_features} features:\", accuracy_score(y_test,y_pred))\n",
    "        print()\n",
    "        \n",
    "        # print(f\"Confusion Matrix to {name} with - {n_features} features:\")\n",
    "        # ConfusionMatrixDisplay(confusion_matrix=confusion_matrix(y_test, y_pred, labels=df_data['class'].unique()),display_labels=df_data['class'].unique()).plot()\n",
    "        # print()\n",
    "\n",
    "        end = time.time()\n",
    "\n",
    "        print(f\"Execution time to {name}: {(end-start):.2f}s\")\n",
    "        "
   ]
  }
 ],
 "metadata": {
  "kernelspec": {
   "display_name": "Python 3",
   "language": "python",
   "name": "python3"
  },
  "language_info": {
   "codemirror_mode": {
    "name": "ipython",
    "version": 3
   },
   "file_extension": ".py",
   "mimetype": "text/x-python",
   "name": "python",
   "nbconvert_exporter": "python",
   "pygments_lexer": "ipython3",
   "version": "3.11.3"
  }
 },
 "nbformat": 4,
 "nbformat_minor": 2
}
